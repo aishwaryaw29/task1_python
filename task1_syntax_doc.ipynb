{
 "cells": [
  {
   "cell_type": "markdown",
   "id": "f0d67e23-8f54-424e-8f3f-80a789b7cdc0",
   "metadata": {},
   "source": [
    "#### 1)BOLD\n",
    "\n",
    "**this is bold**"
   ]
  },
  {
   "cell_type": "markdown",
   "id": "7a5a6ccf-2316-4fba-927b-146d48dc29c0",
   "metadata": {},
   "source": [
    "#### 2) ITALICS\n",
    "\n",
    "*this is italic*"
   ]
  },
  {
   "cell_type": "markdown",
   "id": "00db01cb-93a7-4d0a-85c9-61d4c4ab9dcd",
   "metadata": {},
   "source": [
    "#### 3) INLINE CODE\n",
    "\n",
    "This is `inline code`.\r\n"
   ]
  },
  {
   "cell_type": "markdown",
   "id": "e0ce103f-cbe0-4e49-9e44-8cae281c6d98",
   "metadata": {},
   "source": [
    "#### 4) CODE BLOCKS\n",
    "\n",
    "```def syntax():\n",
    "    print(\"this is syntax doc\")\n"
   ]
  },
  {
   "cell_type": "markdown",
   "id": "2024bcee-27cb-4a44-9f09-21562c21070e",
   "metadata": {},
   "source": [
    "#### 5) MATHEMATICAL EQ\n",
    "\n",
    "$cosx + sinx = A$"
   ]
  },
  {
   "cell_type": "markdown",
   "id": "14c88b44-25c7-43c1-95e3-8f4eee953a54",
   "metadata": {},
   "source": [
    "#### 6) HTML SYNTAX\n",
    "\n",
    "<p> text in HTML </p>"
   ]
  },
  {
   "cell_type": "markdown",
   "id": "4f52453c-8755-4e53-b800-9d8195d707c3",
   "metadata": {},
   "source": [
    "#### 7) GEOMETRIC SHAPES\n",
    "\n",
    "<p>display &#9632;</p>"
   ]
  },
  {
   "cell_type": "markdown",
   "id": "e65aa9a5-ce41-4b7e-b539-12be237f997b",
   "metadata": {},
   "source": [
    "#### 8) TABLE\n",
    "\n",
    "| Header 1 | Header 2 |\r\n",
    "|----------|----------|\r\n",
    "| Cell 1   | Cell 2   |\r\n"
   ]
  },
  {
   "cell_type": "markdown",
   "id": "a867805e-9d2e-44fe-8389-72b821f8cdfa",
   "metadata": {},
   "source": [
    "#### 9) CHECKBOXES\n",
    "\n",
    "- [ ] Task 1\r\n",
    "- [x] Task 2\r\n",
    "\r\n"
   ]
  },
  {
   "cell_type": "markdown",
   "id": "14b73946-61ea-4fe7-8157-51301193f9b4",
   "metadata": {},
   "source": [
    "#### 10) COLOR HIGHLIGHT\n",
    "\r",
    "<span style=\"background-color:yellow\">Highlighted Text</span>\r\n",
    "\n"
   ]
  },
  {
   "cell_type": "markdown",
   "id": "a2d396de-ec88-45b1-89c1-37bdb341a029",
   "metadata": {},
   "source": [
    "#### 11) ADDING LINKS\n",
    "\n",
    "[Git Hub](https://github.com/)\r\n"
   ]
  },
  {
   "cell_type": "markdown",
   "id": "1ae6ac18-0d99-4577-ba81-8a0fc5584b0b",
   "metadata": {},
   "source": [
    "#### 12) NUMBERED LIST\n",
    "\n",
    "1. ITEM 1\n",
    "2. ITEM 2                                                                                                                  m"
   ]
  },
  {
   "cell_type": "markdown",
   "id": "24e2a35d-0b11-4c67-901e-34b310407a85",
   "metadata": {},
   "source": [
    "#### 13) FRAMED EQUATIONS\n",
    "\n",
    "$$ \\boxed{a^2 + b^2 = c^2} $$\r\n",
    "\r\n"
   ]
  },
  {
   "cell_type": "markdown",
   "id": "d81206eb-7d83-4ff1-b192-75a4b62f81ab",
   "metadata": {},
   "source": [
    "#### 14) STRIKETHROUGH \n",
    "\n",
    "This is ~~strikethrough~~ text.\r\n"
   ]
  },
  {
   "cell_type": "markdown",
   "id": "be41ccb3-f7a7-4aa3-86aa-3f0872f2f0a1",
   "metadata": {},
   "source": [
    "#### 15) HORIZONTAL LINES\n",
    "\n",
    "above text\n",
    "***\n",
    "below text"
   ]
  },
  {
   "cell_type": "code",
   "execution_count": null,
   "id": "a8251ddb-348b-4a90-83bf-d2caa0d1bebe",
   "metadata": {},
   "outputs": [],
   "source": []
  }
 ],
 "metadata": {
  "kernelspec": {
   "display_name": "Python 3 (ipykernel)",
   "language": "python",
   "name": "python3"
  },
  "language_info": {
   "codemirror_mode": {
    "name": "ipython",
    "version": 3
   },
   "file_extension": ".py",
   "mimetype": "text/x-python",
   "name": "python",
   "nbconvert_exporter": "python",
   "pygments_lexer": "ipython3",
   "version": "3.12.4"
  }
 },
 "nbformat": 4,
 "nbformat_minor": 5
}
